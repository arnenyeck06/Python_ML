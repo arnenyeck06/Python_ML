{
 "cells": [
  {
   "cell_type": "code",
   "execution_count": 80,
   "id": "316b2557",
   "metadata": {},
   "outputs": [],
   "source": [
    "import pandas as pd\n",
    "import numpy as np\n",
    "import matplotlib.pyplot as plt\n",
    "from datetime import timedelta"
   ]
  },
  {
   "cell_type": "code",
   "execution_count": 86,
   "id": "fde889f3",
   "metadata": {},
   "outputs": [
    {
     "data": {
      "text/html": [
       "<div>\n",
       "<style scoped>\n",
       "    .dataframe tbody tr th:only-of-type {\n",
       "        vertical-align: middle;\n",
       "    }\n",
       "\n",
       "    .dataframe tbody tr th {\n",
       "        vertical-align: top;\n",
       "    }\n",
       "\n",
       "    .dataframe thead th {\n",
       "        text-align: right;\n",
       "    }\n",
       "</style>\n",
       "<table border=\"1\" class=\"dataframe\">\n",
       "  <thead>\n",
       "    <tr style=\"text-align: right;\">\n",
       "      <th></th>\n",
       "      <th>Date</th>\n",
       "      <th>Temperature</th>\n",
       "      <th>Average humidity (%</th>\n",
       "      <th>Average dewpoint (°F</th>\n",
       "      <th>Average barometer (in</th>\n",
       "      <th>Average windspeed (mph</th>\n",
       "      <th>Average gustspeed (mph</th>\n",
       "      <th>Average direction (°deg</th>\n",
       "      <th>Rainfall for month (in</th>\n",
       "      <th>Rainfall for year (in</th>\n",
       "      <th>...</th>\n",
       "      <th>Maximum humidity (%</th>\n",
       "      <th>Minimum humidity (%</th>\n",
       "      <th>Maximum pressure</th>\n",
       "      <th>Minimum pressure</th>\n",
       "      <th>Maximum windspeed (mph</th>\n",
       "      <th>Maximum gust speed (mph</th>\n",
       "      <th>Maximum heat index (°F</th>\n",
       "      <th>Date1</th>\n",
       "      <th>Month</th>\n",
       "      <th>diff_pressure</th>\n",
       "    </tr>\n",
       "  </thead>\n",
       "  <tbody>\n",
       "    <tr>\n",
       "      <th>0</th>\n",
       "      <td>2022-01-01</td>\n",
       "      <td>'37.8'</td>\n",
       "      <td>'35.0'</td>\n",
       "      <td>'12.7'</td>\n",
       "      <td>'29.7'</td>\n",
       "      <td>'26.4'</td>\n",
       "      <td>'36.8'</td>\n",
       "      <td>'274.0'</td>\n",
       "      <td>'0.0'</td>\n",
       "      <td>'0.0'</td>\n",
       "      <td>...</td>\n",
       "      <td>'4.0'</td>\n",
       "      <td>'27.0'</td>\n",
       "      <td>'29.762'</td>\n",
       "      <td>'29.596'</td>\n",
       "      <td>'41.4'</td>\n",
       "      <td>'59.0'</td>\n",
       "      <td>'40.0'</td>\n",
       "      <td>'2022-01-01'</td>\n",
       "      <td>'01'</td>\n",
       "      <td>'0.16600000000000037'</td>\n",
       "    </tr>\n",
       "    <tr>\n",
       "      <th>1</th>\n",
       "      <td>2022-01-02'</td>\n",
       "      <td>'43.2'</td>\n",
       "      <td>'32.0'</td>\n",
       "      <td>'14.7'</td>\n",
       "      <td>'29.5'</td>\n",
       "      <td>'12.8'</td>\n",
       "      <td>'18.0'</td>\n",
       "      <td>'240.0'</td>\n",
       "      <td>'0.0'</td>\n",
       "      <td>'0.0'</td>\n",
       "      <td>...</td>\n",
       "      <td>'4.0'</td>\n",
       "      <td>'16.0'</td>\n",
       "      <td>'29.669'</td>\n",
       "      <td>'29.268'</td>\n",
       "      <td>'35.7'</td>\n",
       "      <td>'51.0'</td>\n",
       "      <td>'52.0'</td>\n",
       "      <td>'2022-01-02'</td>\n",
       "      <td>'01'</td>\n",
       "      <td>'0.4009999999999998'</td>\n",
       "    </tr>\n",
       "    <tr>\n",
       "      <th>2</th>\n",
       "      <td>2022-01-03'</td>\n",
       "      <td>'25.7'</td>\n",
       "      <td>'60.0'</td>\n",
       "      <td>'12.7'</td>\n",
       "      <td>'29.7'</td>\n",
       "      <td>'8.3'</td>\n",
       "      <td>'12.2'</td>\n",
       "      <td>'290.0'</td>\n",
       "      <td>'0.0'</td>\n",
       "      <td>'0.0'</td>\n",
       "      <td>...</td>\n",
       "      <td>'8.0'</td>\n",
       "      <td>'35.0'</td>\n",
       "      <td>'30.232'</td>\n",
       "      <td>'29.26'</td>\n",
       "      <td>'25.3'</td>\n",
       "      <td>'38.0'</td>\n",
       "      <td>'41.0'</td>\n",
       "      <td>'2022-01-03'</td>\n",
       "      <td>'01'</td>\n",
       "      <td>'0.9719999999999978'</td>\n",
       "    </tr>\n",
       "    <tr>\n",
       "      <th>3</th>\n",
       "      <td>2022-01-04'</td>\n",
       "      <td>'9.3'</td>\n",
       "      <td>'67.0'</td>\n",
       "      <td>'0.1'</td>\n",
       "      <td>'30.4'</td>\n",
       "      <td>'2.9'</td>\n",
       "      <td>'4.5'</td>\n",
       "      <td>'47.0'</td>\n",
       "      <td>'0.0'</td>\n",
       "      <td>'0.0'</td>\n",
       "      <td>...</td>\n",
       "      <td>'7.0'</td>\n",
       "      <td>'35.0'</td>\n",
       "      <td>'30.566'</td>\n",
       "      <td>'30.227'</td>\n",
       "      <td>'12.7'</td>\n",
       "      <td>'20.0'</td>\n",
       "      <td>'32.0'</td>\n",
       "      <td>'2022-01-04'</td>\n",
       "      <td>'01'</td>\n",
       "      <td>'0.33899999999999864'</td>\n",
       "    </tr>\n",
       "    <tr>\n",
       "      <th>4</th>\n",
       "      <td>2022-01-05'</td>\n",
       "      <td>'23.5'</td>\n",
       "      <td>'30.0'</td>\n",
       "      <td>'-5.3'</td>\n",
       "      <td>'29.9'</td>\n",
       "      <td>'16.7'</td>\n",
       "      <td>'23.1'</td>\n",
       "      <td>'265.0'</td>\n",
       "      <td>'0.0'</td>\n",
       "      <td>'0.0'</td>\n",
       "      <td>...</td>\n",
       "      <td>'5.0'</td>\n",
       "      <td>'13.0'</td>\n",
       "      <td>'30.233'</td>\n",
       "      <td>'29.568'</td>\n",
       "      <td>'38.0'</td>\n",
       "      <td>'53.0'</td>\n",
       "      <td>'32.0'</td>\n",
       "      <td>'2022-01-05'</td>\n",
       "      <td>'01'</td>\n",
       "      <td>'0.6649999999999991'</td>\n",
       "    </tr>\n",
       "    <tr>\n",
       "      <th>...</th>\n",
       "      <td>...</td>\n",
       "      <td>...</td>\n",
       "      <td>...</td>\n",
       "      <td>...</td>\n",
       "      <td>...</td>\n",
       "      <td>...</td>\n",
       "      <td>...</td>\n",
       "      <td>...</td>\n",
       "      <td>...</td>\n",
       "      <td>...</td>\n",
       "      <td>...</td>\n",
       "      <td>...</td>\n",
       "      <td>...</td>\n",
       "      <td>...</td>\n",
       "      <td>...</td>\n",
       "      <td>...</td>\n",
       "      <td>...</td>\n",
       "      <td>...</td>\n",
       "      <td>...</td>\n",
       "      <td>...</td>\n",
       "      <td>...</td>\n",
       "    </tr>\n",
       "    <tr>\n",
       "      <th>3898</th>\n",
       "      <td>2022-07-25'</td>\n",
       "      <td>'62.8'</td>\n",
       "      <td>'60.0'</td>\n",
       "      <td>'48.1'</td>\n",
       "      <td>'29.7'</td>\n",
       "      <td>'2.5'</td>\n",
       "      <td>'4.0'</td>\n",
       "      <td>'242.0'</td>\n",
       "      <td>'0.33'</td>\n",
       "      <td>'4.47'</td>\n",
       "      <td>...</td>\n",
       "      <td>'90.0'</td>\n",
       "      <td>'36.0'</td>\n",
       "      <td>'29.781'</td>\n",
       "      <td>'29.645'</td>\n",
       "      <td>'8.1'</td>\n",
       "      <td>'17.3'</td>\n",
       "      <td>'77.5'</td>\n",
       "      <td>'2022-07-25'</td>\n",
       "      <td>'07'</td>\n",
       "      <td>'0.13599999999999923'</td>\n",
       "    </tr>\n",
       "    <tr>\n",
       "      <th>3899</th>\n",
       "      <td>2022-07-26'</td>\n",
       "      <td>'60.6'</td>\n",
       "      <td>'68.0'</td>\n",
       "      <td>'48.9'</td>\n",
       "      <td>'29.8'</td>\n",
       "      <td>'1.7'</td>\n",
       "      <td>'2.9'</td>\n",
       "      <td>'357.0'</td>\n",
       "      <td>'0.33'</td>\n",
       "      <td>'4.47'</td>\n",
       "      <td>...</td>\n",
       "      <td>'90.0'</td>\n",
       "      <td>'40.0'</td>\n",
       "      <td>'29.93'</td>\n",
       "      <td>'29.745'</td>\n",
       "      <td>'11.5'</td>\n",
       "      <td>'15.0'</td>\n",
       "      <td>'77.5'</td>\n",
       "      <td>'2022-07-26'</td>\n",
       "      <td>'07'</td>\n",
       "      <td>'0.18499999999999872'</td>\n",
       "    </tr>\n",
       "    <tr>\n",
       "      <th>3900</th>\n",
       "      <td>2022-07-27'</td>\n",
       "      <td>'61.7'</td>\n",
       "      <td>'64.0'</td>\n",
       "      <td>'47.4'</td>\n",
       "      <td>'29.9'</td>\n",
       "      <td>'2.2'</td>\n",
       "      <td>'4.0'</td>\n",
       "      <td>'66.0'</td>\n",
       "      <td>'0.33'</td>\n",
       "      <td>'4.47'</td>\n",
       "      <td>...</td>\n",
       "      <td>'96.0'</td>\n",
       "      <td>'35.0'</td>\n",
       "      <td>'29.941'</td>\n",
       "      <td>'29.781'</td>\n",
       "      <td>'13.8'</td>\n",
       "      <td>'18.4'</td>\n",
       "      <td>'78.2'</td>\n",
       "      <td>'2022-07-27'</td>\n",
       "      <td>'07'</td>\n",
       "      <td>'0.16000000000000014'</td>\n",
       "    </tr>\n",
       "    <tr>\n",
       "      <th>3901</th>\n",
       "      <td>2022-07-28'</td>\n",
       "      <td>'60.5'</td>\n",
       "      <td>'61.0'</td>\n",
       "      <td>'45.3'</td>\n",
       "      <td>'29.7'</td>\n",
       "      <td>'4.0'</td>\n",
       "      <td>'6.2'</td>\n",
       "      <td>'248.0'</td>\n",
       "      <td>'0.35'</td>\n",
       "      <td>'4.49'</td>\n",
       "      <td>...</td>\n",
       "      <td>'94.0'</td>\n",
       "      <td>'35.0'</td>\n",
       "      <td>'29.792'</td>\n",
       "      <td>'29.675'</td>\n",
       "      <td>'17.3'</td>\n",
       "      <td>'26.5'</td>\n",
       "      <td>'77.6'</td>\n",
       "      <td>'2022-07-28'</td>\n",
       "      <td>'07'</td>\n",
       "      <td>'0.11700000000000088';</td>\n",
       "    </tr>\n",
       "    <tr>\n",
       "      <th>3902</th>\n",
       "      <td>2022-07-28'</td>\n",
       "      <td>'60.5'</td>\n",
       "      <td>'61.0'</td>\n",
       "      <td>'45.3'</td>\n",
       "      <td>'29.7'</td>\n",
       "      <td>'4.0'</td>\n",
       "      <td>'6.2'</td>\n",
       "      <td>'248.0'</td>\n",
       "      <td>'0.35'</td>\n",
       "      <td>'4.49'</td>\n",
       "      <td>...</td>\n",
       "      <td>'94.0'</td>\n",
       "      <td>'35.0'</td>\n",
       "      <td>'29.792'</td>\n",
       "      <td>'29.675'</td>\n",
       "      <td>'17.3'</td>\n",
       "      <td>'26.5'</td>\n",
       "      <td>'77.6'</td>\n",
       "      <td>'2022-07-28'</td>\n",
       "      <td>'07'</td>\n",
       "      <td>'0.11700000000000088';</td>\n",
       "    </tr>\n",
       "  </tbody>\n",
       "</table>\n",
       "<p>3903 rows × 23 columns</p>\n",
       "</div>"
      ],
      "text/plain": [
       "             Date  Temperature  Average humidity (%  Average dewpoint (°F  \\\n",
       "0      2022-01-01       '37.8'               '35.0'                '12.7'   \n",
       "1     2022-01-02'       '43.2'               '32.0'                '14.7'   \n",
       "2     2022-01-03'       '25.7'               '60.0'                '12.7'   \n",
       "3     2022-01-04'        '9.3'               '67.0'                 '0.1'   \n",
       "4     2022-01-05'       '23.5'               '30.0'                '-5.3'   \n",
       "...           ...          ...                  ...                   ...   \n",
       "3898  2022-07-25'       '62.8'               '60.0'                '48.1'   \n",
       "3899  2022-07-26'       '60.6'               '68.0'                '48.9'   \n",
       "3900  2022-07-27'       '61.7'               '64.0'                '47.4'   \n",
       "3901  2022-07-28'       '60.5'               '61.0'                '45.3'   \n",
       "3902  2022-07-28'       '60.5'               '61.0'                '45.3'   \n",
       "\n",
       "      Average barometer (in  Average windspeed (mph  Average gustspeed (mph  \\\n",
       "0                    '29.7'                  '26.4'                  '36.8'   \n",
       "1                    '29.5'                  '12.8'                  '18.0'   \n",
       "2                    '29.7'                   '8.3'                  '12.2'   \n",
       "3                    '30.4'                   '2.9'                   '4.5'   \n",
       "4                    '29.9'                  '16.7'                  '23.1'   \n",
       "...                     ...                     ...                     ...   \n",
       "3898                 '29.7'                   '2.5'                   '4.0'   \n",
       "3899                 '29.8'                   '1.7'                   '2.9'   \n",
       "3900                 '29.9'                   '2.2'                   '4.0'   \n",
       "3901                 '29.7'                   '4.0'                   '6.2'   \n",
       "3902                 '29.7'                   '4.0'                   '6.2'   \n",
       "\n",
       "      Average direction (°deg  Rainfall for month (in Rainfall for year (in  \\\n",
       "0                     '274.0'                   '0.0'                 '0.0'   \n",
       "1                     '240.0'                   '0.0'                 '0.0'   \n",
       "2                     '290.0'                   '0.0'                 '0.0'   \n",
       "3                      '47.0'                   '0.0'                 '0.0'   \n",
       "4                     '265.0'                   '0.0'                 '0.0'   \n",
       "...                       ...                     ...                   ...   \n",
       "3898                  '242.0'                  '0.33'                '4.47'   \n",
       "3899                  '357.0'                  '0.33'                '4.47'   \n",
       "3900                   '66.0'                  '0.33'                '4.47'   \n",
       "3901                  '248.0'                  '0.35'                '4.49'   \n",
       "3902                  '248.0'                  '0.35'                '4.49'   \n",
       "\n",
       "      ...  Maximum humidity (%  Minimum humidity (%  Maximum pressure  \\\n",
       "0     ...                '4.0'               '27.0'          '29.762'   \n",
       "1     ...                '4.0'               '16.0'          '29.669'   \n",
       "2     ...                '8.0'               '35.0'          '30.232'   \n",
       "3     ...                '7.0'               '35.0'          '30.566'   \n",
       "4     ...                '5.0'               '13.0'          '30.233'   \n",
       "...   ...                  ...                  ...               ...   \n",
       "3898  ...               '90.0'               '36.0'          '29.781'   \n",
       "3899  ...               '90.0'               '40.0'           '29.93'   \n",
       "3900  ...               '96.0'               '35.0'          '29.941'   \n",
       "3901  ...               '94.0'               '35.0'          '29.792'   \n",
       "3902  ...               '94.0'               '35.0'          '29.792'   \n",
       "\n",
       "      Minimum pressure  Maximum windspeed (mph  Maximum gust speed (mph  \\\n",
       "0             '29.596'                  '41.4'                   '59.0'   \n",
       "1             '29.268'                  '35.7'                   '51.0'   \n",
       "2              '29.26'                  '25.3'                   '38.0'   \n",
       "3             '30.227'                  '12.7'                   '20.0'   \n",
       "4             '29.568'                  '38.0'                   '53.0'   \n",
       "...                ...                     ...                      ...   \n",
       "3898          '29.645'                   '8.1'                   '17.3'   \n",
       "3899          '29.745'                  '11.5'                   '15.0'   \n",
       "3900          '29.781'                  '13.8'                   '18.4'   \n",
       "3901          '29.675'                  '17.3'                   '26.5'   \n",
       "3902          '29.675'                  '17.3'                   '26.5'   \n",
       "\n",
       "      Maximum heat index (°F         Date1  Month           diff_pressure  \n",
       "0                     '40.0'  '2022-01-01'   '01'   '0.16600000000000037'  \n",
       "1                     '52.0'  '2022-01-02'   '01'    '0.4009999999999998'  \n",
       "2                     '41.0'  '2022-01-03'   '01'    '0.9719999999999978'  \n",
       "3                     '32.0'  '2022-01-04'   '01'   '0.33899999999999864'  \n",
       "4                     '32.0'  '2022-01-05'   '01'    '0.6649999999999991'  \n",
       "...                      ...           ...    ...                     ...  \n",
       "3898                  '77.5'  '2022-07-25'   '07'   '0.13599999999999923'  \n",
       "3899                  '77.5'  '2022-07-26'   '07'   '0.18499999999999872'  \n",
       "3900                  '78.2'  '2022-07-27'   '07'   '0.16000000000000014'  \n",
       "3901                  '77.6'  '2022-07-28'   '07'  '0.11700000000000088';  \n",
       "3902                  '77.6'  '2022-07-28'   '07'  '0.11700000000000088';  \n",
       "\n",
       "[3903 rows x 23 columns]"
      ]
     },
     "execution_count": 86,
     "metadata": {},
     "output_type": "execute_result"
    }
   ],
   "source": [
    "df = pd.read_excel(\"/Users/arnenyeck/Desktop/Repositories/Weather_project/weather_dataset_stage1.xls\")\n",
    "df"
   ]
  },
  {
   "cell_type": "code",
   "execution_count": 87,
   "id": "2c7ecd40",
   "metadata": {
    "scrolled": true
   },
   "outputs": [
    {
     "name": "stdout",
     "output_type": "stream",
     "text": [
      "<class 'pandas.core.frame.DataFrame'>\n",
      "RangeIndex: 3903 entries, 0 to 3902\n",
      "Data columns (total 23 columns):\n",
      " #   Column                    Non-Null Count  Dtype \n",
      "---  ------                    --------------  ----- \n",
      " 0   Date                      3903 non-null   object\n",
      " 1    Temperature              3903 non-null   object\n",
      " 2    Average humidity (%      3903 non-null   object\n",
      " 3    Average dewpoint (°F     3903 non-null   object\n",
      " 4    Average barometer (in    3903 non-null   object\n",
      " 5    Average windspeed (mph   3903 non-null   object\n",
      " 6    Average gustspeed (mph   3903 non-null   object\n",
      " 7    Average direction (°deg  3903 non-null   object\n",
      " 8    Rainfall for month (in   3903 non-null   object\n",
      " 9   Rainfall for year (in     3903 non-null   object\n",
      " 10   Maximum rain per minute  3903 non-null   object\n",
      " 11   Maximum temperature (°F  3903 non-null   object\n",
      " 12   Minimum temperature (°F  3903 non-null   object\n",
      " 13   Maximum humidity (%      3903 non-null   object\n",
      " 14   Minimum humidity (%      3903 non-null   object\n",
      " 15   Maximum pressure         3903 non-null   object\n",
      " 16   Minimum pressure         3903 non-null   object\n",
      " 17   Maximum windspeed (mph   3903 non-null   object\n",
      " 18   Maximum gust speed (mph  3903 non-null   object\n",
      " 19   Maximum heat index (°F   3903 non-null   object\n",
      " 20  Date1                     3903 non-null   object\n",
      " 21   Month                    3903 non-null   object\n",
      " 22   diff_pressure            3903 non-null   object\n",
      "dtypes: object(23)\n",
      "memory usage: 701.4+ KB\n"
     ]
    }
   ],
   "source": [
    "df.info()"
   ]
  },
  {
   "cell_type": "code",
   "execution_count": 88,
   "id": "ec9fa805",
   "metadata": {},
   "outputs": [
    {
     "data": {
      "text/plain": [
       "Index(['Date', ' Temperature', ' Average humidity (%', ' Average dewpoint (°F',\n",
       "       ' Average barometer (in', ' Average windspeed (mph',\n",
       "       ' Average gustspeed (mph', ' Average direction (°deg',\n",
       "       ' Rainfall for month (in', 'Rainfall for year (in',\n",
       "       ' Maximum rain per minute', ' Maximum temperature (°F',\n",
       "       ' Minimum temperature (°F', ' Maximum humidity (%',\n",
       "       ' Minimum humidity (%', ' Maximum pressure', ' Minimum pressure',\n",
       "       ' Maximum windspeed (mph', ' Maximum gust speed (mph',\n",
       "       ' Maximum heat index (°F', 'Date1', ' Month', ' diff_pressure'],\n",
       "      dtype='object')"
      ]
     },
     "execution_count": 88,
     "metadata": {},
     "output_type": "execute_result"
    }
   ],
   "source": [
    "df.columns"
   ]
  },
  {
   "cell_type": "markdown",
   "id": "ca3ce69c",
   "metadata": {},
   "source": [
    "## Fixing the years on dataset"
   ]
  },
  {
   "cell_type": "code",
   "execution_count": 91,
   "id": "a2a96052",
   "metadata": {},
   "outputs": [
    {
     "data": {
      "text/plain": [
       "0        2022-01-01\n",
       "1       2022-01-02'\n",
       "2       2022-01-03'\n",
       "3       2022-01-04'\n",
       "4       2022-01-05'\n",
       "           ...     \n",
       "3898    2022-07-25'\n",
       "3899    2022-07-26'\n",
       "3900    2022-07-27'\n",
       "3901    2022-07-28'\n",
       "3902    2022-07-28'\n",
       "Name: Date, Length: 3903, dtype: object"
      ]
     },
     "execution_count": 91,
     "metadata": {},
     "output_type": "execute_result"
    }
   ],
   "source": [
    "df['Date']"
   ]
  },
  {
   "cell_type": "code",
   "execution_count": 92,
   "id": "17c65e1f",
   "metadata": {},
   "outputs": [
    {
     "data": {
      "text/plain": [
       "2022-07-28'    13\n",
       "2022-05-22'    12\n",
       "2022-06-12'    12\n",
       "2022-06-17'    12\n",
       "2022-06-16'    12\n",
       "               ..\n",
       "2022-12-07'     8\n",
       "2022-12-01'     8\n",
       "2022-12-05'     8\n",
       "2022-02-29'     2\n",
       "2022-01-01      1\n",
       "Name: Date, Length: 367, dtype: int64"
      ]
     },
     "execution_count": 92,
     "metadata": {},
     "output_type": "execute_result"
    }
   ],
   "source": [
    "df['Date'].value_counts()"
   ]
  },
  {
   "cell_type": "code",
   "execution_count": 93,
   "id": "f4f623da",
   "metadata": {},
   "outputs": [
    {
     "data": {
      "text/plain": [
       "0       2022-01-01'\n",
       "1       2022-01-02'\n",
       "2       2022-01-03'\n",
       "3       2022-01-04'\n",
       "4       2022-01-05'\n",
       "           ...     \n",
       "3898    2022-07-25'\n",
       "3899    2022-07-26'\n",
       "3900    2022-07-27'\n",
       "3901    2022-07-28'\n",
       "3902    2022-07-28'\n",
       "Name: Date, Length: 3903, dtype: object"
      ]
     },
     "execution_count": 93,
     "metadata": {},
     "output_type": "execute_result"
    }
   ],
   "source": [
    "new = df['Date'].replace(\"2022-01-01\",\"2022-01-01'\", inplace = True)\n",
    "df[\"Date\"]"
   ]
  },
  {
   "cell_type": "code",
   "execution_count": 94,
   "id": "ca807bc0",
   "metadata": {
    "scrolled": true
   },
   "outputs": [
    {
     "data": {
      "text/plain": [
       "0       2022-01-01\n",
       "1       2022-01-02\n",
       "2       2022-01-03\n",
       "3       2022-01-04\n",
       "4       2022-01-05\n",
       "           ...    \n",
       "3898    2022-07-25\n",
       "3899    2022-07-26\n",
       "3900    2022-07-27\n",
       "3901    2022-07-28\n",
       "3902    2022-07-28\n",
       "Name: Date, Length: 3903, dtype: object"
      ]
     },
     "execution_count": 94,
     "metadata": {},
     "output_type": "execute_result"
    }
   ],
   "source": [
    "## removing the apostrophe at the end of dates\n",
    "df['Date']=df['Date'].str.replace(\"'\",\"\")\n",
    "df['Date']"
   ]
  },
  {
   "cell_type": "code",
   "execution_count": 96,
   "id": "9eba9819",
   "metadata": {},
   "outputs": [
    {
     "data": {
      "text/plain": [
       "0      2022-01-01\n",
       "1      2022-01-02\n",
       "2      2022-01-03\n",
       "3      2022-01-04\n",
       "4      2022-01-05\n",
       "          ...    \n",
       "3898   2022-07-25\n",
       "3899   2022-07-26\n",
       "3900   2022-07-27\n",
       "3901   2022-07-28\n",
       "3902   2022-07-28\n",
       "Name: Date, Length: 3903, dtype: datetime64[ns]"
      ]
     },
     "execution_count": 96,
     "metadata": {},
     "output_type": "execute_result"
    }
   ],
   "source": [
    "## Remove out of range dates with 'coerce', and converted to column to datetime\n",
    "df['Date'] = pd.to_datetime(df['Date'], errors='coerce')\n",
    "df['Date']"
   ]
  },
  {
   "cell_type": "markdown",
   "id": "1c3d1a35",
   "metadata": {},
   "source": [
    "## Checking for duplicates"
   ]
  },
  {
   "cell_type": "code",
   "execution_count": 97,
   "id": "f36531ca",
   "metadata": {},
   "outputs": [
    {
     "data": {
      "text/plain": [
       "1"
      ]
     },
     "execution_count": 97,
     "metadata": {},
     "output_type": "execute_result"
    }
   ],
   "source": [
    "df.duplicated().sum()"
   ]
  },
  {
   "cell_type": "code",
   "execution_count": 98,
   "id": "57c8017f",
   "metadata": {},
   "outputs": [],
   "source": [
    "## deleting duplicates\n",
    "df.drop_duplicates(inplace = True)\n"
   ]
  },
  {
   "cell_type": "code",
   "execution_count": 99,
   "id": "dd2cf880",
   "metadata": {},
   "outputs": [
    {
     "data": {
      "text/plain": [
       "0"
      ]
     },
     "execution_count": 99,
     "metadata": {},
     "output_type": "execute_result"
    }
   ],
   "source": [
    "df.duplicated().sum()"
   ]
  },
  {
   "cell_type": "markdown",
   "id": "cd11556e",
   "metadata": {},
   "source": [
    "## Fixing dataset labels"
   ]
  },
  {
   "cell_type": "code",
   "execution_count": 101,
   "id": "a5f7f71b",
   "metadata": {},
   "outputs": [],
   "source": [
    "## deleting Date1\n",
    "df = df.drop(df.columns[20], axis=1)"
   ]
  },
  {
   "cell_type": "code",
   "execution_count": 102,
   "id": "6b1c8f26",
   "metadata": {},
   "outputs": [
    {
     "data": {
      "text/plain": [
       "Index(['Date', 'Temperature', 'Average humidity (%', 'Average dewpoint (°F',\n",
       "       'Average barometer (in', 'Average windspeed (mph',\n",
       "       'Average gustspeed (mph', 'Average direction (°deg',\n",
       "       'Rainfall for month (in', 'Rainfall for year (in',\n",
       "       'Maximum rain per minute', 'Maximum temperature (°F',\n",
       "       'Minimum temperature (°F', 'Maximum humidity (%', 'Minimum humidity (%',\n",
       "       'Maximum pressure', 'Minimum pressure', 'Maximum windspeed (mph',\n",
       "       'Maximum gust speed (mph', 'Maximum heat index (°F', 'Month',\n",
       "       'diff_pressure'],\n",
       "      dtype='object')"
      ]
     },
     "execution_count": 102,
     "metadata": {},
     "output_type": "execute_result"
    }
   ],
   "source": [
    "## trimming white spaces\n",
    "df.columns.str.strip()"
   ]
  },
  {
   "cell_type": "code",
   "execution_count": 103,
   "id": "8125e2c9",
   "metadata": {},
   "outputs": [
    {
     "name": "stdout",
     "output_type": "stream",
     "text": [
      "<class 'pandas.core.frame.DataFrame'>\n",
      "Int64Index: 3902 entries, 0 to 3901\n",
      "Data columns (total 21 columns):\n",
      " #   Column                    Non-Null Count  Dtype         \n",
      "---  ------                    --------------  -----         \n",
      " 0   Date                      3900 non-null   datetime64[ns]\n",
      " 1    Temperature              3902 non-null   object        \n",
      " 2    Average humidity (%      3902 non-null   object        \n",
      " 3    Average dewpoint (°F     3902 non-null   object        \n",
      " 4    Average barometer (in    3902 non-null   object        \n",
      " 5    Average windspeed (mph   3902 non-null   object        \n",
      " 6    Average gustspeed (mph   3902 non-null   object        \n",
      " 7    Average direction (°deg  3902 non-null   object        \n",
      " 8    Rainfall for month (in   3902 non-null   object        \n",
      " 9   Rainfall for year (in     3902 non-null   object        \n",
      " 10   Maximum rain per minute  3902 non-null   object        \n",
      " 11   Maximum temperature (°F  3902 non-null   object        \n",
      " 12   Minimum temperature (°F  3902 non-null   object        \n",
      " 13   Maximum humidity (%      3902 non-null   object        \n",
      " 14   Minimum humidity (%      3902 non-null   object        \n",
      " 15   Maximum pressure         3902 non-null   object        \n",
      " 16   Minimum pressure         3902 non-null   object        \n",
      " 17   Maximum windspeed (mph   3902 non-null   object        \n",
      " 18   Maximum gust speed (mph  3902 non-null   object        \n",
      " 19   Maximum heat index (°F   3902 non-null   object        \n",
      " 20   diff_pressure            3902 non-null   object        \n",
      "dtypes: datetime64[ns](1), object(20)\n",
      "memory usage: 670.7+ KB\n"
     ]
    }
   ],
   "source": [
    "## deleting column month \n",
    "df = df.drop(df.columns[20], axis=1)\n",
    "df.info()"
   ]
  },
  {
   "cell_type": "markdown",
   "id": "926bb155",
   "metadata": {},
   "source": [
    "## Encoding the dataset "
   ]
  },
  {
   "cell_type": "code",
   "execution_count": 111,
   "id": "ecaca7c5",
   "metadata": {},
   "outputs": [],
   "source": [
    "df.replace(\"'\", \"\", regex=True, inplace=True)"
   ]
  },
  {
   "cell_type": "code",
   "execution_count": 112,
   "id": "e805ec1f",
   "metadata": {},
   "outputs": [],
   "source": [
    "df.replace(\";\", \"\", regex=True, inplace=True)\n"
   ]
  },
  {
   "cell_type": "code",
   "execution_count": 105,
   "id": "c0180a70",
   "metadata": {},
   "outputs": [],
   "source": [
    "new_columns = ['date', 'temperature', 'average_humidity', 'average_dewpoint',       'average_barometer', 'average_windspeed', 'average_gustspeed',       'average_direction', 'rainfall_month', 'rainfall_year',       'maximum_rain_minute', 'maximum_temperature', 'minimum_temperature',       'maximum_humidity', 'minimum_humidity', 'maximum_pressure',       'minimum_pressure', 'maximum_windspeed',       'maximum_gust_speed', 'maximum_heat_index',       'diff_pressure']\n",
    "df.columns = new_columns"
   ]
  },
  {
   "cell_type": "code",
   "execution_count": 106,
   "id": "13556433",
   "metadata": {},
   "outputs": [
    {
     "data": {
      "text/plain": [
       "Index(['date', 'temperature', 'average_humidity', 'average_dewpoint',\n",
       "       'average_barometer', 'average_windspeed', 'average_gustspeed',\n",
       "       'average_direction', 'rainfall_month', 'rainfall_year',\n",
       "       'maximum_rain_minute', 'maximum_temperature', 'minimum_temperature',\n",
       "       'maximum_humidity', 'minimum_humidity', 'maximum_pressure',\n",
       "       'minimum_pressure', 'maximum_windspeed', 'maximum_gust_speed',\n",
       "       'maximum_heat_index', 'diff_pressure'],\n",
       "      dtype='object')"
      ]
     },
     "execution_count": 106,
     "metadata": {},
     "output_type": "execute_result"
    }
   ],
   "source": [
    "df.columns"
   ]
  },
  {
   "cell_type": "code",
   "execution_count": 113,
   "id": "aada5703",
   "metadata": {},
   "outputs": [],
   "source": [
    "for col in df.columns:\n",
    "    if df[col].dtype==\"object\":\n",
    "        df[col]=df[col].astype(float)"
   ]
  },
  {
   "cell_type": "code",
   "execution_count": 114,
   "id": "188b92d8",
   "metadata": {},
   "outputs": [
    {
     "name": "stdout",
     "output_type": "stream",
     "text": [
      "<class 'pandas.core.frame.DataFrame'>\n",
      "Int64Index: 3902 entries, 0 to 3901\n",
      "Data columns (total 21 columns):\n",
      " #   Column               Non-Null Count  Dtype         \n",
      "---  ------               --------------  -----         \n",
      " 0   date                 3900 non-null   datetime64[ns]\n",
      " 1   temperature          3902 non-null   float64       \n",
      " 2   average_humidity     3902 non-null   float64       \n",
      " 3   average_dewpoint     3902 non-null   float64       \n",
      " 4   average_barometer    3902 non-null   float64       \n",
      " 5   average_windspeed    3902 non-null   float64       \n",
      " 6   average_gustspeed    3902 non-null   float64       \n",
      " 7   average_direction    3902 non-null   float64       \n",
      " 8   rainfall_month       3902 non-null   float64       \n",
      " 9   rainfall_year        3902 non-null   float64       \n",
      " 10  maximum_rain_minute  3902 non-null   float64       \n",
      " 11  maximum_temperature  3902 non-null   float64       \n",
      " 12  minimum_temperature  3902 non-null   float64       \n",
      " 13  maximum_humidity     3902 non-null   float64       \n",
      " 14  minimum_humidity     3902 non-null   float64       \n",
      " 15  maximum_pressure     3902 non-null   float64       \n",
      " 16  minimum_pressure     3902 non-null   float64       \n",
      " 17  maximum_windspeed    3902 non-null   float64       \n",
      " 18  maximum_gust_speed   3902 non-null   float64       \n",
      " 19  maximum_heat_index   3902 non-null   float64       \n",
      " 20  diff_pressure        3902 non-null   float64       \n",
      "dtypes: datetime64[ns](1), float64(20)\n",
      "memory usage: 670.7 KB\n"
     ]
    }
   ],
   "source": [
    "df.info()"
   ]
  },
  {
   "cell_type": "code",
   "execution_count": 115,
   "id": "0bfecfcd",
   "metadata": {},
   "outputs": [
    {
     "data": {
      "text/plain": [
       "date                   2\n",
       "temperature            0\n",
       "average_humidity       0\n",
       "average_dewpoint       0\n",
       "average_barometer      0\n",
       "average_windspeed      0\n",
       "average_gustspeed      0\n",
       "average_direction      0\n",
       "rainfall_month         0\n",
       "rainfall_year          0\n",
       "maximum_rain_minute    0\n",
       "maximum_temperature    0\n",
       "minimum_temperature    0\n",
       "maximum_humidity       0\n",
       "minimum_humidity       0\n",
       "maximum_pressure       0\n",
       "minimum_pressure       0\n",
       "maximum_windspeed      0\n",
       "maximum_gust_speed     0\n",
       "maximum_heat_index     0\n",
       "diff_pressure          0\n",
       "dtype: int64"
      ]
     },
     "execution_count": 115,
     "metadata": {},
     "output_type": "execute_result"
    }
   ],
   "source": [
    "df.isnull().sum()"
   ]
  },
  {
   "cell_type": "code",
   "execution_count": 116,
   "id": "eedc2c4d",
   "metadata": {},
   "outputs": [
    {
     "data": {
      "text/plain": [
       "2022-01-01    12\n",
       "2022-06-12    12\n",
       "2022-06-18    12\n",
       "2022-06-17    12\n",
       "2022-06-16    12\n",
       "              ..\n",
       "2022-12-09     8\n",
       "2022-12-08     8\n",
       "2022-12-07     8\n",
       "2022-12-06     8\n",
       "2022-12-01     8\n",
       "Name: date, Length: 365, dtype: int64"
      ]
     },
     "execution_count": 116,
     "metadata": {},
     "output_type": "execute_result"
    }
   ],
   "source": [
    "df['date'].value_counts()"
   ]
  },
  {
   "cell_type": "code",
   "execution_count": null,
   "id": "d54bc490",
   "metadata": {},
   "outputs": [],
   "source": [
    "## It seems like the raw data has the column \"Date\" corrupted. \n",
    "## The raw date gives us attributes from 2022 to July 2033 as a predicted date. \n",
    "## There is going to be a year change fro 2022 up to 2033."
   ]
  },
  {
   "cell_type": "code",
   "execution_count": 120,
   "id": "000aa430",
   "metadata": {},
   "outputs": [],
   "source": [
    "target_date = '2022-01-01'\n",
    "target_date = pd.to_datetime(target_date)\n",
    "index = df.index[df['date'] == target_date].tolist()\n",
    "year = 2021\n",
    "max_year = 2033\n",
    "\n",
    "for i in range(index[0], df.shape[0]):\n",
    "    if df.at[i, 'date'] == target_date:\n",
    "        year += 1\n",
    "        if year > max_year:\n",
    "            break\n",
    "    df.at[i, 'date'] = df.at[i, 'date'].replace(year = year)"
   ]
  },
  {
   "cell_type": "code",
   "execution_count": 121,
   "id": "44525a4a",
   "metadata": {},
   "outputs": [
    {
     "data": {
      "text/html": [
       "<div>\n",
       "<style scoped>\n",
       "    .dataframe tbody tr th:only-of-type {\n",
       "        vertical-align: middle;\n",
       "    }\n",
       "\n",
       "    .dataframe tbody tr th {\n",
       "        vertical-align: top;\n",
       "    }\n",
       "\n",
       "    .dataframe thead th {\n",
       "        text-align: right;\n",
       "    }\n",
       "</style>\n",
       "<table border=\"1\" class=\"dataframe\">\n",
       "  <thead>\n",
       "    <tr style=\"text-align: right;\">\n",
       "      <th></th>\n",
       "      <th>date</th>\n",
       "      <th>temperature</th>\n",
       "      <th>average_humidity</th>\n",
       "      <th>average_dewpoint</th>\n",
       "      <th>average_barometer</th>\n",
       "      <th>average_windspeed</th>\n",
       "      <th>average_gustspeed</th>\n",
       "      <th>average_direction</th>\n",
       "      <th>rainfall_month</th>\n",
       "      <th>rainfall_year</th>\n",
       "      <th>...</th>\n",
       "      <th>maximum_temperature</th>\n",
       "      <th>minimum_temperature</th>\n",
       "      <th>maximum_humidity</th>\n",
       "      <th>minimum_humidity</th>\n",
       "      <th>maximum_pressure</th>\n",
       "      <th>minimum_pressure</th>\n",
       "      <th>maximum_windspeed</th>\n",
       "      <th>maximum_gust_speed</th>\n",
       "      <th>maximum_heat_index</th>\n",
       "      <th>diff_pressure</th>\n",
       "    </tr>\n",
       "  </thead>\n",
       "  <tbody>\n",
       "    <tr>\n",
       "      <th>2366</th>\n",
       "      <td>NaT</td>\n",
       "      <td>38.1</td>\n",
       "      <td>36.0</td>\n",
       "      <td>12.3</td>\n",
       "      <td>29.8</td>\n",
       "      <td>11.5</td>\n",
       "      <td>17.0</td>\n",
       "      <td>77.0</td>\n",
       "      <td>0.16</td>\n",
       "      <td>0.36</td>\n",
       "      <td>...</td>\n",
       "      <td>45.9</td>\n",
       "      <td>27.9</td>\n",
       "      <td>73.0</td>\n",
       "      <td>22.0</td>\n",
       "      <td>30.023</td>\n",
       "      <td>29.702</td>\n",
       "      <td>29.9</td>\n",
       "      <td>39.1</td>\n",
       "      <td>45.9</td>\n",
       "      <td>0.321</td>\n",
       "    </tr>\n",
       "    <tr>\n",
       "      <th>3751</th>\n",
       "      <td>NaT</td>\n",
       "      <td>37.6</td>\n",
       "      <td>31.0</td>\n",
       "      <td>8.7</td>\n",
       "      <td>29.8</td>\n",
       "      <td>8.0</td>\n",
       "      <td>11.6</td>\n",
       "      <td>236.0</td>\n",
       "      <td>0.48</td>\n",
       "      <td>0.49</td>\n",
       "      <td>...</td>\n",
       "      <td>48.1</td>\n",
       "      <td>26.1</td>\n",
       "      <td>57.0</td>\n",
       "      <td>20.0</td>\n",
       "      <td>29.972</td>\n",
       "      <td>29.647</td>\n",
       "      <td>19.6</td>\n",
       "      <td>31.1</td>\n",
       "      <td>48.1</td>\n",
       "      <td>0.325</td>\n",
       "    </tr>\n",
       "  </tbody>\n",
       "</table>\n",
       "<p>2 rows × 21 columns</p>\n",
       "</div>"
      ],
      "text/plain": [
       "     date  temperature  average_humidity  average_dewpoint  average_barometer  \\\n",
       "2366  NaT         38.1              36.0              12.3               29.8   \n",
       "3751  NaT         37.6              31.0               8.7               29.8   \n",
       "\n",
       "      average_windspeed  average_gustspeed  average_direction  rainfall_month  \\\n",
       "2366               11.5               17.0               77.0            0.16   \n",
       "3751                8.0               11.6              236.0            0.48   \n",
       "\n",
       "      rainfall_year  ...  maximum_temperature  minimum_temperature  \\\n",
       "2366           0.36  ...                 45.9                 27.9   \n",
       "3751           0.49  ...                 48.1                 26.1   \n",
       "\n",
       "      maximum_humidity  minimum_humidity  maximum_pressure  minimum_pressure  \\\n",
       "2366              73.0              22.0            30.023            29.702   \n",
       "3751              57.0              20.0            29.972            29.647   \n",
       "\n",
       "      maximum_windspeed  maximum_gust_speed  maximum_heat_index  diff_pressure  \n",
       "2366               29.9                39.1                45.9          0.321  \n",
       "3751               19.6                31.1                48.1          0.325  \n",
       "\n",
       "[2 rows x 21 columns]"
      ]
     },
     "execution_count": 121,
     "metadata": {},
     "output_type": "execute_result"
    }
   ],
   "source": [
    "## let's see where the missing variables are\n",
    "df[df.isna().any(axis = 1)]"
   ]
  },
  {
   "cell_type": "code",
   "execution_count": 123,
   "id": "016d28af",
   "metadata": {},
   "outputs": [
    {
     "data": {
      "text/html": [
       "<div>\n",
       "<style scoped>\n",
       "    .dataframe tbody tr th:only-of-type {\n",
       "        vertical-align: middle;\n",
       "    }\n",
       "\n",
       "    .dataframe tbody tr th {\n",
       "        vertical-align: top;\n",
       "    }\n",
       "\n",
       "    .dataframe thead th {\n",
       "        text-align: right;\n",
       "    }\n",
       "</style>\n",
       "<table border=\"1\" class=\"dataframe\">\n",
       "  <thead>\n",
       "    <tr style=\"text-align: right;\">\n",
       "      <th></th>\n",
       "      <th>date</th>\n",
       "      <th>temperature</th>\n",
       "      <th>average_humidity</th>\n",
       "      <th>average_dewpoint</th>\n",
       "      <th>average_barometer</th>\n",
       "      <th>average_windspeed</th>\n",
       "      <th>average_gustspeed</th>\n",
       "      <th>average_direction</th>\n",
       "      <th>rainfall_month</th>\n",
       "      <th>rainfall_year</th>\n",
       "      <th>...</th>\n",
       "      <th>maximum_temperature</th>\n",
       "      <th>minimum_temperature</th>\n",
       "      <th>maximum_humidity</th>\n",
       "      <th>minimum_humidity</th>\n",
       "      <th>maximum_pressure</th>\n",
       "      <th>minimum_pressure</th>\n",
       "      <th>maximum_windspeed</th>\n",
       "      <th>maximum_gust_speed</th>\n",
       "      <th>maximum_heat_index</th>\n",
       "      <th>diff_pressure</th>\n",
       "    </tr>\n",
       "  </thead>\n",
       "  <tbody>\n",
       "    <tr>\n",
       "      <th>2365</th>\n",
       "      <td>2029-02-28</td>\n",
       "      <td>42.2</td>\n",
       "      <td>25.0</td>\n",
       "      <td>7.1</td>\n",
       "      <td>29.9</td>\n",
       "      <td>8.7</td>\n",
       "      <td>13.2</td>\n",
       "      <td>58.0</td>\n",
       "      <td>0.16</td>\n",
       "      <td>0.36</td>\n",
       "      <td>...</td>\n",
       "      <td>53.6</td>\n",
       "      <td>31.5</td>\n",
       "      <td>44.0</td>\n",
       "      <td>11.0</td>\n",
       "      <td>29.942</td>\n",
       "      <td>29.749</td>\n",
       "      <td>25.3</td>\n",
       "      <td>36.8</td>\n",
       "      <td>53.6</td>\n",
       "      <td>0.193</td>\n",
       "    </tr>\n",
       "    <tr>\n",
       "      <th>2366</th>\n",
       "      <td>NaT</td>\n",
       "      <td>38.1</td>\n",
       "      <td>36.0</td>\n",
       "      <td>12.3</td>\n",
       "      <td>29.8</td>\n",
       "      <td>11.5</td>\n",
       "      <td>17.0</td>\n",
       "      <td>77.0</td>\n",
       "      <td>0.16</td>\n",
       "      <td>0.36</td>\n",
       "      <td>...</td>\n",
       "      <td>45.9</td>\n",
       "      <td>27.9</td>\n",
       "      <td>73.0</td>\n",
       "      <td>22.0</td>\n",
       "      <td>30.023</td>\n",
       "      <td>29.702</td>\n",
       "      <td>29.9</td>\n",
       "      <td>39.1</td>\n",
       "      <td>45.9</td>\n",
       "      <td>0.321</td>\n",
       "    </tr>\n",
       "    <tr>\n",
       "      <th>2367</th>\n",
       "      <td>2029-03-01</td>\n",
       "      <td>36.4</td>\n",
       "      <td>30.0</td>\n",
       "      <td>7.6</td>\n",
       "      <td>30.0</td>\n",
       "      <td>7.9</td>\n",
       "      <td>12.5</td>\n",
       "      <td>23.0</td>\n",
       "      <td>0.00</td>\n",
       "      <td>0.21</td>\n",
       "      <td>...</td>\n",
       "      <td>47.0</td>\n",
       "      <td>24.5</td>\n",
       "      <td>51.0</td>\n",
       "      <td>22.0</td>\n",
       "      <td>30.125</td>\n",
       "      <td>29.817</td>\n",
       "      <td>24.2</td>\n",
       "      <td>34.5</td>\n",
       "      <td>47.0</td>\n",
       "      <td>0.308</td>\n",
       "    </tr>\n",
       "    <tr>\n",
       "      <th>3750</th>\n",
       "      <td>2033-02-28</td>\n",
       "      <td>37.7</td>\n",
       "      <td>30.0</td>\n",
       "      <td>8.3</td>\n",
       "      <td>30.1</td>\n",
       "      <td>11.0</td>\n",
       "      <td>15.9</td>\n",
       "      <td>224.0</td>\n",
       "      <td>0.48</td>\n",
       "      <td>0.49</td>\n",
       "      <td>...</td>\n",
       "      <td>47.0</td>\n",
       "      <td>29.5</td>\n",
       "      <td>38.0</td>\n",
       "      <td>21.0</td>\n",
       "      <td>30.194</td>\n",
       "      <td>29.970</td>\n",
       "      <td>24.2</td>\n",
       "      <td>42.6</td>\n",
       "      <td>47.0</td>\n",
       "      <td>0.224</td>\n",
       "    </tr>\n",
       "    <tr>\n",
       "      <th>3751</th>\n",
       "      <td>NaT</td>\n",
       "      <td>37.6</td>\n",
       "      <td>31.0</td>\n",
       "      <td>8.7</td>\n",
       "      <td>29.8</td>\n",
       "      <td>8.0</td>\n",
       "      <td>11.6</td>\n",
       "      <td>236.0</td>\n",
       "      <td>0.48</td>\n",
       "      <td>0.49</td>\n",
       "      <td>...</td>\n",
       "      <td>48.1</td>\n",
       "      <td>26.1</td>\n",
       "      <td>57.0</td>\n",
       "      <td>20.0</td>\n",
       "      <td>29.972</td>\n",
       "      <td>29.647</td>\n",
       "      <td>19.6</td>\n",
       "      <td>31.1</td>\n",
       "      <td>48.1</td>\n",
       "      <td>0.325</td>\n",
       "    </tr>\n",
       "    <tr>\n",
       "      <th>3752</th>\n",
       "      <td>2033-03-01</td>\n",
       "      <td>28.7</td>\n",
       "      <td>66.0</td>\n",
       "      <td>17.8</td>\n",
       "      <td>29.7</td>\n",
       "      <td>4.1</td>\n",
       "      <td>6.5</td>\n",
       "      <td>34.0</td>\n",
       "      <td>0.00</td>\n",
       "      <td>0.49</td>\n",
       "      <td>...</td>\n",
       "      <td>38.2</td>\n",
       "      <td>17.1</td>\n",
       "      <td>90.0</td>\n",
       "      <td>36.0</td>\n",
       "      <td>29.903</td>\n",
       "      <td>29.622</td>\n",
       "      <td>16.1</td>\n",
       "      <td>23.0</td>\n",
       "      <td>38.2</td>\n",
       "      <td>0.281</td>\n",
       "    </tr>\n",
       "  </tbody>\n",
       "</table>\n",
       "<p>6 rows × 21 columns</p>\n",
       "</div>"
      ],
      "text/plain": [
       "           date  temperature  average_humidity  average_dewpoint  \\\n",
       "2365 2029-02-28         42.2              25.0               7.1   \n",
       "2366        NaT         38.1              36.0              12.3   \n",
       "2367 2029-03-01         36.4              30.0               7.6   \n",
       "3750 2033-02-28         37.7              30.0               8.3   \n",
       "3751        NaT         37.6              31.0               8.7   \n",
       "3752 2033-03-01         28.7              66.0              17.8   \n",
       "\n",
       "      average_barometer  average_windspeed  average_gustspeed  \\\n",
       "2365               29.9                8.7               13.2   \n",
       "2366               29.8               11.5               17.0   \n",
       "2367               30.0                7.9               12.5   \n",
       "3750               30.1               11.0               15.9   \n",
       "3751               29.8                8.0               11.6   \n",
       "3752               29.7                4.1                6.5   \n",
       "\n",
       "      average_direction  rainfall_month  rainfall_year  ...  \\\n",
       "2365               58.0            0.16           0.36  ...   \n",
       "2366               77.0            0.16           0.36  ...   \n",
       "2367               23.0            0.00           0.21  ...   \n",
       "3750              224.0            0.48           0.49  ...   \n",
       "3751              236.0            0.48           0.49  ...   \n",
       "3752               34.0            0.00           0.49  ...   \n",
       "\n",
       "      maximum_temperature  minimum_temperature  maximum_humidity  \\\n",
       "2365                 53.6                 31.5              44.0   \n",
       "2366                 45.9                 27.9              73.0   \n",
       "2367                 47.0                 24.5              51.0   \n",
       "3750                 47.0                 29.5              38.0   \n",
       "3751                 48.1                 26.1              57.0   \n",
       "3752                 38.2                 17.1              90.0   \n",
       "\n",
       "      minimum_humidity  maximum_pressure  minimum_pressure  maximum_windspeed  \\\n",
       "2365              11.0            29.942            29.749               25.3   \n",
       "2366              22.0            30.023            29.702               29.9   \n",
       "2367              22.0            30.125            29.817               24.2   \n",
       "3750              21.0            30.194            29.970               24.2   \n",
       "3751              20.0            29.972            29.647               19.6   \n",
       "3752              36.0            29.903            29.622               16.1   \n",
       "\n",
       "      maximum_gust_speed  maximum_heat_index  diff_pressure  \n",
       "2365                36.8                53.6          0.193  \n",
       "2366                39.1                45.9          0.321  \n",
       "2367                34.5                47.0          0.308  \n",
       "3750                42.6                47.0          0.224  \n",
       "3751                31.1                48.1          0.325  \n",
       "3752                23.0                38.2          0.281  \n",
       "\n",
       "[6 rows x 21 columns]"
      ]
     },
     "execution_count": 123,
     "metadata": {},
     "output_type": "execute_result"
    }
   ],
   "source": [
    "df.iloc[[2365,2366,2367,3750,3751,3752]]"
   ]
  },
  {
   "cell_type": "code",
   "execution_count": null,
   "id": "c7eb6c69",
   "metadata": {},
   "outputs": [],
   "source": [
    "## we can see that the null values are due to the leap year."
   ]
  },
  {
   "cell_type": "code",
   "execution_count": 124,
   "id": "80dd02dd",
   "metadata": {},
   "outputs": [],
   "source": [
    "df.dropna(inplace=True)"
   ]
  },
  {
   "cell_type": "code",
   "execution_count": 129,
   "id": "18183afa",
   "metadata": {},
   "outputs": [
    {
     "data": {
      "text/plain": [
       "date                   0\n",
       "temperature            0\n",
       "average_humidity       0\n",
       "average_dewpoint       0\n",
       "average_barometer      0\n",
       "average_windspeed      0\n",
       "average_gustspeed      0\n",
       "average_direction      0\n",
       "rainfall_month         0\n",
       "rainfall_year          0\n",
       "maximum_rain_minute    0\n",
       "maximum_temperature    0\n",
       "minimum_temperature    0\n",
       "maximum_humidity       0\n",
       "minimum_humidity       0\n",
       "maximum_pressure       0\n",
       "minimum_pressure       0\n",
       "maximum_windspeed      0\n",
       "maximum_gust_speed     0\n",
       "maximum_heat_index     0\n",
       "diff_pressure          0\n",
       "dtype: int64"
      ]
     },
     "execution_count": 129,
     "metadata": {},
     "output_type": "execute_result"
    }
   ],
   "source": [
    "df.isnull().sum()"
   ]
  },
  {
   "cell_type": "code",
   "execution_count": 130,
   "id": "12aa86a0",
   "metadata": {},
   "outputs": [
    {
     "data": {
      "text/plain": [
       "0"
      ]
     },
     "execution_count": 130,
     "metadata": {},
     "output_type": "execute_result"
    }
   ],
   "source": [
    "df.duplicated().sum()"
   ]
  },
  {
   "cell_type": "code",
   "execution_count": 131,
   "id": "9c10d690",
   "metadata": {},
   "outputs": [],
   "source": [
    "df.to_excel('cleaned_data2.xlsx', index=True)"
   ]
  },
  {
   "cell_type": "code",
   "execution_count": 132,
   "id": "bef88a6c",
   "metadata": {},
   "outputs": [
    {
     "name": "stdout",
     "output_type": "stream",
     "text": [
      "/Users/arnenyeck/Desktop/Repositories/Weather_project\n"
     ]
    }
   ],
   "source": [
    "import os\n",
    "\n",
    "print(os.getcwd())"
   ]
  },
  {
   "cell_type": "code",
   "execution_count": 64,
   "id": "24e19583",
   "metadata": {},
   "outputs": [
    {
     "data": {
      "text/plain": [
       "Index(['date', 'temperature', 'average_humidity', 'average_dewpoint',\n",
       "       'average_barometer', 'average_windspeed', 'average_gustspeed',\n",
       "       'average_direction', 'rainfall_month', 'rainfall_year',\n",
       "       'maximum_rain_minute', 'maximum_temperature', 'minimum_temperature',\n",
       "       'maximum_humidity', 'minimum_humidity', 'maximum_pressure',\n",
       "       'minimum_pressure', 'maximum_windspeed', 'maximum_gust_speed',\n",
       "       'maximum_heat_index', 'diff_pressure'],\n",
       "      dtype='object')"
      ]
     },
     "execution_count": 64,
     "metadata": {},
     "output_type": "execute_result"
    }
   ],
   "source": [
    "df.columns"
   ]
  }
 ],
 "metadata": {
  "kernelspec": {
   "display_name": "Python 3 (ipykernel)",
   "language": "python",
   "name": "python3"
  },
  "language_info": {
   "codemirror_mode": {
    "name": "ipython",
    "version": 3
   },
   "file_extension": ".py",
   "mimetype": "text/x-python",
   "name": "python",
   "nbconvert_exporter": "python",
   "pygments_lexer": "ipython3",
   "version": "3.10.8"
  }
 },
 "nbformat": 4,
 "nbformat_minor": 5
}
